{
 "cells": [
  {
   "cell_type": "markdown",
   "id": "secondary-interim",
   "metadata": {},
   "source": [
    "## Testing the emulation\n",
    "\n",
    "This notebook will include one of our networks, and run the inference. Then, the same model will be tested from its hls version, to check that the emulation works. \n",
    "\n",
    "For the qkeras and hls4ml tests, this will be based on our framework. For the emulation, this will be based on the \"quickstart.py\" file that is doing the same for the VAE from the anomaly team."
   ]
  },
  {
   "cell_type": "code",
   "execution_count": 1,
   "id": "average-assumption",
   "metadata": {},
   "outputs": [],
   "source": [
    "### first, lets set all required environment variables\n",
    "\n",
    "! source /scratch/Xilinx/Vivado/2018.3/settings64.sh\n",
    "! export XILINX_HLS=/scratch/Xilinx/Vivado/2018.3 "
   ]
  },
  {
   "cell_type": "code",
   "execution_count": 2,
   "id": "impressed-junction",
   "metadata": {},
   "outputs": [],
   "source": [
    "# this will include the emulation\n",
    "# strangely, the first one will crash whith a symbol error\n",
    "try: import topotrigger_emulation as emulation\n",
    "except Exception as e: print(repr(e))\n",
    "    \n",
    "import topotrigger_emulation as emulation"
   ]
  },
  {
   "cell_type": "code",
   "execution_count": 3,
   "id": "continued-investing",
   "metadata": {},
   "outputs": [
    {
     "name": "stderr",
     "output_type": "stream",
     "text": [
      "/scratch/uh2ml4l1/anaconda3/envs/finns_framework_setup/lib/python3.7/site-packages/awkward0/__init__.py:8: DeprecationWarning: distutils Version classes are deprecated. Use packaging.version instead.\n",
      "  if distutils.version.LooseVersion(numpy.__version__) < distutils.version.LooseVersion(\"1.13.1\"):\n"
     ]
    }
   ],
   "source": [
    "# and then the framework stuff\n",
    "\n",
    "# just suppressing the CUDA warnings from keras\n",
    "import os\n",
    "os.environ['TF_CPP_MIN_LOG_LEVEL'] = '2'\n",
    "\n",
    "import numpy as np\n",
    "\n",
    "# importing the required modules\n",
    "import sys\n",
    "sys.path.insert(1, '/scratch/flabe/uhh_mlatl1_run3/src')\n",
    "\n",
    "from loadData import *\n",
    "from preprocessing import *\n",
    "from models import *\n",
    "from training import *\n",
    "from utils import *\n",
    "from plotting import *\n",
    "from inference import *\n",
    "from tests import *\n",
    "\n",
    "from tensorflow import keras\n",
    "from sklearn.utils import shuffle\n",
    "\n",
    "set_global_plotting_settings()"
   ]
  },
  {
   "cell_type": "code",
   "execution_count": 4,
   "id": "limiting-inquiry",
   "metadata": {},
   "outputs": [],
   "source": [
    "### definitions\n",
    "\n",
    "keras_model = \"/scratch/flabe/\" + \"hhtobbww/models/\" + \"onlymu_small_compressed_4folds_hw_bitshiftscaler\""
   ]
  },
  {
   "cell_type": "code",
   "execution_count": null,
   "id": "humanitarian-charter",
   "metadata": {},
   "outputs": [],
   "source": []
  }
 ],
 "metadata": {
  "kernelspec": {
   "display_name": "finns_framework_setup",
   "language": "python",
   "name": "finns_framework_setup"
  },
  "language_info": {
   "codemirror_mode": {
    "name": "ipython",
    "version": 3
   },
   "file_extension": ".py",
   "mimetype": "text/x-python",
   "name": "python",
   "nbconvert_exporter": "python",
   "pygments_lexer": "ipython3",
   "version": "3.7.16"
  }
 },
 "nbformat": 4,
 "nbformat_minor": 5
}
